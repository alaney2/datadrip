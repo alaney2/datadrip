{
 "cells": [
  {
   "cell_type": "code",
   "execution_count": 38,
   "metadata": {},
   "outputs": [],
   "source": [
    "import openai\n",
    "import shutil\n",
    "import json\n",
    "import os\n",
    "from dotenv import load_dotenv\n",
    "\n",
    "load_dotenv('.env.local')\n",
    "openai.api_key = os.getenv(\"OPENAI_API_KEY\")"
   ]
  },
  {
   "cell_type": "code",
   "execution_count": 21,
   "metadata": {},
   "outputs": [],
   "source": [
    "def generate_prompt(topic):\n",
    "    prompt = f'Topic: {topic}\\n' + '''\n",
    "    Provide a JSON object containing the topic, a list of 1-12 prerequisite topics, and a list of 1-12 further readings related to AI, ML, and DL. \n",
    "    Ensure that the prerequisites and further readings are specifically relevant to the given, rather than broad topics like calculus or statistics. \n",
    "    Use a similar format to the example provided below:\n",
    "\n",
    "    Example:\n",
    "    {\n",
    "        \"generative_adversarial_network\": {\n",
    "            \"title\": \"Generative Adversarial Network\",\n",
    "            \"prerequisites\": [\"expectation_maximization_algorithm\", \"probability_distributions\", \"convolutional_neural_networks\", \"backpropagation\", \"stochastic_gradient_descent\", \"loss_functions\", \"optimization_algorithms\", \"deep_learning_frameworks\", \"regularization_techniques\", \"unsupervised_learning\"],\n",
    "            \"further_readings\": [\"conditional_gans\", \"cycle_gans\", \"stylegan_and_stylegan2\", \"wasserstein_gans\", \"domain_adaptation\", \"image_to_image_translation\", \"semi_supervised_learning\", \"adversarial_training\", \"adversarial_attacks_and_defenses\", \"transfer_learning\"]\n",
    "        }\n",
    "    }\n",
    "    Next, write a detailed wiki page about the given topic in Markdown format, from the perspective of a world-renowned AI and ML expert. \n",
    "    Ensure that this wiki page is explicitly in code format. Do not include a \"Contents\" section nor a \"Further Readings\" section.\n",
    "    Use a neutral, unbiased tone without exclamation marks, and write in the style of a melancholic older person. \n",
    "    Follow Markdown syntax for headings and formatting, and use LaTeX for equations, with inline equations in pairs of $ and multiline equations in $$. \n",
    "    Ensure the entire output is less than 8192 tokens long and does not include an extra line at the end of the Markdown.\n",
    "    '''\n",
    "    return prompt"
   ]
  },
  {
   "cell_type": "code",
   "execution_count": 4,
   "metadata": {},
   "outputs": [],
   "source": [
    "topic = 'gan'\n",
    "prompt = generate_prompt(topic)\n",
    "\n",
    "completion = openai.ChatCompletion.create(\n",
    "    model=\"gpt-3.5-turbo\",\n",
    "    messages=[\n",
    "        {\"role\": \"user\", \"content\": prompt}\n",
    "    ],\n",
    "    temperature=0.7,\n",
    ")"
   ]
  },
  {
   "cell_type": "code",
   "execution_count": null,
   "metadata": {},
   "outputs": [],
   "source": [
    "finish_reason = completion.choices[0]['finish_reason']\n",
    "message = completion.choices[0].message.content\n",
    "\n",
    "print(finish_reason)\n",
    "\n",
    "json_start_pos = message.find('\"')\n",
    "json_end_pos = message.find('}')\n",
    "json_string = message[json_start_pos:json_end_pos + 1]\n",
    "if json_string.count('{') == 1 and json_string.count('}') == 1:\n",
    "    json_string = '{' + json_string.strip() + '}'\n",
    "json_object = json.loads(json_string)\n",
    "\n",
    "with open('wiki-connections.json', 'r') as file:\n",
    "    existing_data = json.load(file)\n",
    "\n",
    "existing_data.update(json_object)\n",
    "with open('wiki-connections.json', 'w') as file:\n",
    "    json.dump(existing_data, file, indent=4)\n"
   ]
  },
  {
   "cell_type": "code",
   "execution_count": 45,
   "metadata": {},
   "outputs": [
    {
     "data": {
      "text/plain": [
       "'data/blah.md'"
      ]
     },
     "execution_count": 45,
     "metadata": {},
     "output_type": "execute_result"
    }
   ],
   "source": [
    "markdown_start_pos = message.find('#', json_end_pos)\n",
    "markdown_content = message[markdown_start_pos:].strip() + '\\n'\n",
    "\n",
    "md_filename = topic + '.md'\n",
    "with open(md_filename, 'w') as file:\n",
    "    file.write(markdown_content)\n",
    "\n",
    "destination_folder = 'data'\n",
    "shutil.move(md_filename, destination_folder)"
   ]
  },
  {
   "cell_type": "code",
   "execution_count": 48,
   "metadata": {},
   "outputs": [
    {
     "data": {
      "text/plain": [
       "'pages/blah.js'"
      ]
     },
     "execution_count": 48,
     "metadata": {},
     "output_type": "execute_result"
    }
   ],
   "source": [
    "js_string = f'''\n",
    "import React from 'react';\n",
    "import path from 'path';\n",
    "import fs from 'fs';\n",
    "import PageContent from '@/components/PageContent/PageContent';\n",
    "\n",
    "const filename = '{md_filename}';\n",
    "\n",
    "export default function MarkdownPage({{ markdownContent }}) {{\n",
    "  return <PageContent content={{markdownContent}} filename={{filename}} />;\n",
    "}}\n",
    "\n",
    "export async function getStaticProps() {{\n",
    "  const filePath = path.join(process.cwd(), 'data', filename);\n",
    "  const markdownContent = fs.readFileSync(filePath, 'utf8');\n",
    "  return {{\n",
    "    props: {{\n",
    "      markdownContent,\n",
    "    }},\n",
    "  }};\n",
    "}}\n",
    "'''\n",
    "\n",
    "js_filename = topic + '.js'\n",
    "with open(js_filename, 'w') as file:\n",
    "    file.write(js_string)\n",
    "\n",
    "destination_folder = 'pages'\n",
    "shutil.move(js_filename, destination_folder)"
   ]
  },
  {
   "cell_type": "code",
   "execution_count": null,
   "metadata": {},
   "outputs": [],
   "source": []
  }
 ],
 "metadata": {
  "kernelspec": {
   "display_name": "Python 3",
   "language": "python",
   "name": "python3"
  },
  "language_info": {
   "codemirror_mode": {
    "name": "ipython",
    "version": 3
   },
   "file_extension": ".py",
   "mimetype": "text/x-python",
   "name": "python",
   "nbconvert_exporter": "python",
   "pygments_lexer": "ipython3",
   "version": "3.10.11"
  },
  "orig_nbformat": 4
 },
 "nbformat": 4,
 "nbformat_minor": 2
}
